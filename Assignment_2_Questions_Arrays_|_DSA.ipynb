{
  "nbformat": 4,
  "nbformat_minor": 0,
  "metadata": {
    "colab": {
      "provenance": [],
      "authorship_tag": "ABX9TyMf3hOW6fR+Ng4uwTxCtmk7",
      "include_colab_link": true
    },
    "kernelspec": {
      "name": "python3",
      "display_name": "Python 3"
    },
    "language_info": {
      "name": "python"
    }
  },
  "cells": [
    {
      "cell_type": "markdown",
      "metadata": {
        "id": "view-in-github",
        "colab_type": "text"
      },
      "source": [
        "<a href=\"https://colab.research.google.com/github/pradhannikita/DSA/blob/main/Assignment_2_Questions_Arrays_%7C_DSA.ipynb\" target=\"_parent\"><img src=\"https://colab.research.google.com/assets/colab-badge.svg\" alt=\"Open In Colab\"/></a>"
      ]
    },
    {
      "cell_type": "code",
      "execution_count": 1,
      "metadata": {
        "colab": {
          "base_uri": "https://localhost:8080/"
        },
        "id": "1PxEnR_MP5Ik",
        "outputId": "3ed244c2-f7ea-4e33-eb0a-2b51d2a9d4cf"
      },
      "outputs": [
        {
          "output_type": "stream",
          "name": "stdout",
          "text": [
            "4\n"
          ]
        }
      ],
      "source": [
        "# Question 1\n",
        "# Given an integer array nums of 2n integers, group these integers into n pairs (a1, b1), (a2, b2),\n",
        "# ..., (an, bn) such that the sum of min(ai, bi) for all i is maximized. Return the maximized sum.\n",
        "\n",
        "\n",
        "def arrayPairSum(nums):\n",
        "    nums.sort()\n",
        "    pair_sum = 0\n",
        "    \n",
        "    for i in range(0, len(nums), 2):\n",
        "        pair_sum += nums[i]\n",
        "    \n",
        "    return pair_sum\n",
        "\n",
        "nums = [1, 4, 3, 2]\n",
        "result = arrayPairSum(nums)\n",
        "print(result)\n"
      ]
    },
    {
      "cell_type": "code",
      "source": [
        "# Question 2\n",
        "# Alice has n candies, where the ith candy is of type candyType[i]. Alice noticed that she started\n",
        "# to gain weight, so she visited a doctor.\n",
        "# The doctor advised Alice to only eat n / 2 of the candies she has (n is always even). Alice\n",
        "# likes her candies very much, and she wants to eat the maximum number of different types of\n",
        "# candies while still following the doctor's advice.\n",
        "# Given the integer array candyType of length n, return the maximum number of different types\n",
        "# of candies she can eat if she only eats n / 2 of them.\n",
        "\n",
        "def distributeCandies(candyType):\n",
        "    unique_types = len(set(candyType))\n",
        "    max_types = len(candyType) // 2\n",
        "    \n",
        "    return min(unique_types, max_types)\n",
        "candyType = [1, 1, 2, 2, 3, 3]\n",
        "result = distributeCandies(candyType)\n",
        "print(result)\n"
      ],
      "metadata": {
        "colab": {
          "base_uri": "https://localhost:8080/"
        },
        "id": "LYWUZZo8Qlxh",
        "outputId": "fd64ac40-802e-4555-bb9b-7e23d529a1c0"
      },
      "execution_count": 2,
      "outputs": [
        {
          "output_type": "stream",
          "name": "stdout",
          "text": [
            "3\n"
          ]
        }
      ]
    },
    {
      "cell_type": "code",
      "source": [
        "# Question 3\n",
        "# We define a harmonious array as an array where the difference between its maximum value\n",
        "# and its minimum value is exactly 1.\n",
        "# Given an integer array nums, return the length of its longest harmonious subsequence\n",
        "# among all its possible subsequences.\n",
        "# A subsequence of an array is a sequence that can be derived from the array by deleting some\n",
        "# or no elements without changing the order of the remaining elements.\n",
        "\n",
        "def findLHS(nums):\n",
        "    num_counts = {}\n",
        "    max_length = 0\n",
        "    \n",
        "    for num in nums:\n",
        "        num_counts[num] = num_counts.get(num, 0) + 1\n",
        "        \n",
        "    for num in num_counts:\n",
        "        if num + 1 in num_counts:\n",
        "            length = num_counts[num] + num_counts[num + 1]\n",
        "            max_length = max(max_length, length)\n",
        "    \n",
        "    return max_length\n",
        "nums = [1, 3, 2, 2, 5, 2, 3, 7]\n",
        "result = findLHS(nums)\n",
        "print(result)\n"
      ],
      "metadata": {
        "colab": {
          "base_uri": "https://localhost:8080/"
        },
        "id": "NnVCusHwQ8E5",
        "outputId": "38a9ac80-383b-44c7-ff6f-9952e7d8bc69"
      },
      "execution_count": 3,
      "outputs": [
        {
          "output_type": "stream",
          "name": "stdout",
          "text": [
            "5\n"
          ]
        }
      ]
    },
    {
      "cell_type": "code",
      "source": [
        "# Question 4\n",
        "# You have a long flowerbed in which some of the plots are planted, and some are not.\n",
        "# However, flowers cannot be planted in adjacent plots.\n",
        "# Given an integer array flowerbed containing 0's and 1's, where 0 means empty and 1 means\n",
        "# not empty, and an integer n, return true if n new flowers can be planted in the flowerbed\n",
        "# without violating the no-adjacent-flowers rule and false otherwise.\n",
        "# Example 1:\n",
        "# Input: flowerbed = [1,0,0,0,1], n = 1\n",
        "# Output: true\n",
        "\n",
        "def canPlaceFlowers(flowerbed, n):\n",
        "    length = len(flowerbed)\n",
        "    count = 0\n",
        "    i = 0\n",
        "    \n",
        "    while i < length:\n",
        "        if flowerbed[i] == 0 and (i == 0 or flowerbed[i-1] == 0) and (i == length-1 or flowerbed[i+1] == 0):\n",
        "            flowerbed[i] = 1\n",
        "            count += 1\n",
        "            i += 1  # Skip the next plot since it is adjacent to the newly planted flower\n",
        "        i += 1\n",
        "    \n",
        "    return count >= n\n",
        "flowerbed = [1, 0, 0, 0, 1]\n",
        "n = 1\n",
        "result = canPlaceFlowers(flowerbed, n)\n",
        "print(result)\n"
      ],
      "metadata": {
        "colab": {
          "base_uri": "https://localhost:8080/"
        },
        "id": "Hkb-BCuzRnR-",
        "outputId": "258a5abc-ab27-4b18-b358-8812fc82481f"
      },
      "execution_count": 4,
      "outputs": [
        {
          "output_type": "stream",
          "name": "stdout",
          "text": [
            "True\n"
          ]
        }
      ]
    },
    {
      "cell_type": "code",
      "source": [
        "# Question 5\n",
        "# Given an integer array nums, find three numbers whose product is maximum and return the\n",
        "# maximum product.\n",
        "\n",
        "def maximumProduct(nums):\n",
        "    nums.sort()\n",
        "    \n",
        "    return max(nums[-1] * nums[-2] * nums[-3], nums[0] * nums[1] * nums[-1])\n",
        "nums = [1, 2, 3]\n",
        "result = maximumProduct(nums)\n",
        "print(result)"
      ],
      "metadata": {
        "colab": {
          "base_uri": "https://localhost:8080/"
        },
        "id": "-dTDFYRyR9_k",
        "outputId": "2bf9667f-0694-4418-8876-2e370606c70c"
      },
      "execution_count": 7,
      "outputs": [
        {
          "output_type": "stream",
          "name": "stdout",
          "text": [
            "6\n"
          ]
        }
      ]
    },
    {
      "cell_type": "code",
      "source": [
        "# Question 6\n",
        "# Given an array of integers nums which is sorted in ascending order, and an integer target,\n",
        "# write a function to search target in nums. If target exists, then return its index. Otherwise,\n",
        "# return -1.\n",
        "# You must write an algorithm with O(log n) runtime complexity.\n",
        "# Input: nums = [-1,0,3,5,9,12], target = 9\n",
        "# Output: 4\n",
        "# Explanation: 9 exists in nums and its index is 4\n",
        "def search(nums, target):\n",
        "    left = 0\n",
        "    right = len(nums) - 1\n",
        "    \n",
        "    while left <= right:\n",
        "        mid = left + (right - left) // 2\n",
        "        \n",
        "        if nums[mid] == target:\n",
        "            return mid\n",
        "        elif nums[mid] < target:\n",
        "            left = mid + 1\n",
        "        else:\n",
        "            right = mid - 1\n",
        "    \n",
        "    return -1\n",
        "nums = [-1, 0, 3, 5, 9, 12]\n",
        "target = 9\n",
        "result = search(nums, target)\n",
        "print(result)\n"
      ],
      "metadata": {
        "colab": {
          "base_uri": "https://localhost:8080/"
        },
        "id": "hVUvpBXWSgUI",
        "outputId": "3a00916c-3524-4b99-9710-0a05e1713659"
      },
      "execution_count": 8,
      "outputs": [
        {
          "output_type": "stream",
          "name": "stdout",
          "text": [
            "4\n"
          ]
        }
      ]
    },
    {
      "cell_type": "code",
      "source": [
        "# Question 7\n",
        "# An array is monotonic if it is either monotone increasing or monotone decreasing.\n",
        "# An array nums is monotone increasing if for all i <= j, nums[i] <= nums[j]. An array nums is\n",
        "# monotone decreasing if for all i <= j, nums[i] >= nums[j].\n",
        "# Given an integer array nums, return true if the given array is monotonic, or false otherwise.\n",
        "# Example 1:\n",
        "# Input: nums = [1,2,2,3]\n",
        "# Output: true\n",
        "\n",
        "def isMonotonic(nums):\n",
        "    is_increasing = True\n",
        "    is_decreasing = True\n",
        "    \n",
        "    for i in range(1, len(nums)):\n",
        "        if nums[i] < nums[i - 1]:\n",
        "            is_increasing = False\n",
        "        if nums[i] > nums[i - 1]:\n",
        "            is_decreasing = False\n",
        "    \n",
        "    return is_increasing or is_decreasing\n",
        "nums = [1, 2, 2, 3]\n",
        "result = isMonotonic(nums)\n",
        "print(result)"
      ],
      "metadata": {
        "colab": {
          "base_uri": "https://localhost:8080/"
        },
        "id": "lPWQ_ZI8SmZ_",
        "outputId": "9e3a2613-8000-46e6-e6d9-77c705802b69"
      },
      "execution_count": 10,
      "outputs": [
        {
          "output_type": "stream",
          "name": "stdout",
          "text": [
            "True\n"
          ]
        }
      ]
    },
    {
      "cell_type": "code",
      "source": [
        "# Question 8\n",
        "# You are given an integer array nums and an integer k.\n",
        "# In one operation, you can choose any index i where 0 <= i < nums.length and change nums[i]\n",
        "# to nums[i] + x where x is an integer from the range [-k, k]. You can apply this operation at\n",
        "# most once for each index i.\n",
        "# The score of nums is the difference between the maximum and minimum elements in nums.\n",
        "# Return the minimum score of nums after applying the mentioned operation at most once for\n",
        "# each index in it.\n",
        "# Example 1:\n",
        "# Input: nums = [1], k = 0\n",
        "# Output: 0\n",
        "def minimumScore(nums, k):\n",
        "    minimum = min(nums)\n",
        "    maximum = max(nums)\n",
        "    \n",
        "    if maximum - minimum <= 2 * k:\n",
        "        return 0\n",
        "    else:\n",
        "        return maximum - minimum - 2 * k\n",
        "nums = [1]\n",
        "k = 0\n",
        "result = minimumScore(nums, k)\n",
        "print(result)\n"
      ],
      "metadata": {
        "colab": {
          "base_uri": "https://localhost:8080/"
        },
        "id": "mufRd-mwTVPw",
        "outputId": "184b1ad1-465b-482d-fbc9-cc24a9d4d73d"
      },
      "execution_count": 11,
      "outputs": [
        {
          "output_type": "stream",
          "name": "stdout",
          "text": [
            "0\n"
          ]
        }
      ]
    }
  ]
}