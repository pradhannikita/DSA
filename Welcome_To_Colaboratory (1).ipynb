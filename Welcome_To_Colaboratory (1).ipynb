{
  "cells": [
    {
      "cell_type": "code",
      "source": [
        "\n",
        "# 💡 **Q1.** Given an array of integers nums and an integer target, return indices of the two numbers such that they add up to target.\n",
        "\n",
        "# You may assume that each input would have exactly one solution, and you may not use the same element twice.\n",
        "\n",
        "# You can return the answer in any order.\n",
        "\n",
        "# **Example:**\n",
        "# Input: nums = [2,7,11,15], target = 9\n",
        "# Output0 [0,1]\n",
        "\n",
        "\n",
        "\n",
        "def twoSum(nums, target):\n",
        "    num_map = {}  # Create an empty hash map\n",
        "\n",
        "    # Iterate through the array\n",
        "    for i, num in enumerate(nums):\n",
        "        complement = target - num  # Calculate the complement of the current number\n",
        "\n",
        "        # Check if the complement exists in the hash map\n",
        "        if complement in num_map:\n",
        "            return [num_map[complement], i]  # Return the indices of the two numbers\n",
        "\n",
        "        # Add the current number and its index to the hash map\n",
        "        num_map[num] = i\n",
        "\n",
        "    # No two numbers found that add up to the target\n",
        "    return []\n",
        "\n",
        "# Test the function\n",
        "nums = [2, 7, 11, 15]\n",
        "target = 9\n",
        "print(twoSum(nums, target))  # Output: [0, 1]\n"
      ],
      "metadata": {
        "colab": {
          "base_uri": "https://localhost:8080/"
        },
        "id": "wJATQY2CGpFv",
        "outputId": "b8d76438-13ce-4945-fce3-688bed30da42"
      },
      "execution_count": 1,
      "outputs": [
        {
          "output_type": "stream",
          "name": "stdout",
          "text": [
            "[0, 1]\n"
          ]
        }
      ]
    },
    {
      "cell_type": "code",
      "source": [
        "\n",
        "# # 💡 **Q2.** Given an integer array nums and an integer val, remove all occurrences of val in nums in-place. The order of the elements may be changed. Then return the number of elements in nums which are not equal to val.\n",
        "\n",
        "# Consider the number of elements in nums which are not equal to val be k, to get accepted, you need to do the following things:\n",
        "\n",
        "# - Change the array nums such that the first k elements of nums contain the elements which are not equal to val. The remaining elements of nums are not important as well as the size of nums.\n",
        "# - Return k.\n",
        "\n",
        "# **Example :**\n",
        "# Input: nums = [3,2,2,3], val = 3\n",
        "# Output: 2, nums = [2,2,_*,_*]\n",
        "\n",
        "def removeElement(nums, val):\n",
        "    k = 0  # Number of elements not equal to val\n",
        "    \n",
        "    for i in range(len(nums)):\n",
        "        if nums[i] != val:\n",
        "            nums[k] = nums[i]\n",
        "            k += 1\n",
        "    \n",
        "    return k\n",
        "    \n",
        "nums = [3, 2, 2, 3]\n",
        "val = 3\n",
        "k = removeElement(nums, val)\n",
        "print(k)\n",
        "print(nums[:k])\n"
      ],
      "metadata": {
        "colab": {
          "base_uri": "https://localhost:8080/"
        },
        "id": "fVtUckOKGtil",
        "outputId": "c88e331f-43fc-422c-830a-3cec37477067"
      },
      "execution_count": 3,
      "outputs": [
        {
          "output_type": "stream",
          "name": "stdout",
          "text": [
            "2\n",
            "[2, 2]\n"
          ]
        }
      ]
    },
    {
      "cell_type": "code",
      "source": [
        "\n",
        "# 💡 **Q3.** Given a sorted array of distinct integers and a target value, return the index if the target is found. If not, return the index where it would be if it were inserted in order.\n",
        "\n",
        "# You must write an algorithm with O(log n) runtime complexity.\n",
        "\n",
        "# **Example 1:**\n",
        "# Input: nums = [1,3,5,6], target = 5\n",
        "\n",
        "# Output: 2\n",
        "def searchInsert(nums, target):\n",
        "    left = 0\n",
        "    right = len(nums) - 1\n",
        "    \n",
        "    while left <= right:\n",
        "        mid = (left + right) // 2\n",
        "        \n",
        "        if nums[mid] == target:\n",
        "            return mid\n",
        "        elif nums[mid] < target:\n",
        "            left = mid + 1\n",
        "        else:\n",
        "            right = mid - 1\n",
        "    \n",
        "    return left\n",
        "    \n",
        "nums = [1, 3, 5, 6]\n",
        "target = 5\n",
        "index = searchInsert(nums, target)\n",
        "print(index)\n"
      ],
      "metadata": {
        "colab": {
          "base_uri": "https://localhost:8080/"
        },
        "id": "TkSSlWHkHfxm",
        "outputId": "516e3e4d-7f9f-4620-d90f-30ab45550428"
      },
      "execution_count": 4,
      "outputs": [
        {
          "output_type": "stream",
          "name": "stdout",
          "text": [
            "2\n"
          ]
        }
      ]
    },
    {
      "cell_type": "code",
      "source": [
        "\n",
        "# 💡 **Q4.** You are given a large integer represented as an integer array digits, where each digits[i] is the ith digit of the integer. The digits are ordered from most significant to least significant in left-to-right order. The large integer does not contain any leading 0's.\n",
        "\n",
        "# Increment the large integer by one and return the resulting array of digits.\n",
        "\n",
        "# **Example 1:**\n",
        "# Input: digits = [1,2,3]\n",
        "# Output: [1,2,4]\n",
        "\n",
        "def plusOne(digits):\n",
        "    carry = 1  # Start with a carry of 1 since we're incrementing by one\n",
        "    \n",
        "    for i in range(len(digits) - 1, -1, -1):\n",
        "        digits[i] += carry\n",
        "        \n",
        "        if digits[i] <= 9:\n",
        "            # No carry left, early exit\n",
        "            return digits\n",
        "        \n",
        "        # Carry exists, set current digit to 0 and continue to the next digit\n",
        "        digits[i] = 0\n",
        "    \n",
        "    # If we reach here, it means the leftmost digit had a carry, so we need to add an extra digit\n",
        "    digits.insert(0, 1)\n",
        "    \n",
        "    return digits\n",
        "digits = [1, 2, 3]\n",
        "result = plusOne(digits)\n",
        "print(result)\n",
        "\n",
        "\n",
        "\n",
        "\n"
      ],
      "metadata": {
        "colab": {
          "base_uri": "https://localhost:8080/"
        },
        "id": "xehf2K6FITAy",
        "outputId": "62564657-ba4f-4462-f671-cadc71ee5948"
      },
      "execution_count": 5,
      "outputs": [
        {
          "output_type": "stream",
          "name": "stdout",
          "text": [
            "[1, 2, 4]\n"
          ]
        }
      ]
    },
    {
      "cell_type": "code",
      "source": [
        "\n",
        "# 💡 **Q5.** You are given two integer arrays nums1 and nums2, sorted in non-decreasing order, and two integers m and n, representing the number of elements in nums1 and nums2 respectively.\n",
        "\n",
        "# Merge nums1 and nums2 into a single array sorted in non-decreasing order.\n",
        "\n",
        "# The final sorted array should not be returned by the function, but instead be stored inside the array nums1. To accommodate this, nums1 has a length of m + n, where the first m elements denote the elements that should be merged, and the last n elements are set to 0 and should be ignored. nums2 has a length of n.\n",
        "\n",
        "\n",
        "def merge(nums1, m, nums2, n):\n",
        "    # Initialize two pointers for nums1 and nums2\n",
        "    p1 = m - 1\n",
        "    p2 = n - 1\n",
        "    \n",
        "    # Merge elements from the end\n",
        "    for i in range(m + n - 1, -1, -1):\n",
        "        if p1 >= 0 and (p2 < 0 or nums1[p1] >= nums2[p2]):\n",
        "            nums1[i] = nums1[p1]\n",
        "            p1 -= 1\n",
        "        else:\n",
        "            nums1[i] = nums2[p2]\n",
        "            p2 -= 1\n",
        "nums1 = [1, 2, 3, 0, 0, 0]\n",
        "m = 3\n",
        "nums2 = [2, 5, 6]\n",
        "n = 3\n",
        "\n",
        "merge(nums1, m, nums2, n)\n",
        "print(nums1)\n",
        "\n"
      ],
      "metadata": {
        "colab": {
          "base_uri": "https://localhost:8080/"
        },
        "id": "Z6EGcpI8Imnb",
        "outputId": "a164faae-3dfa-44cb-87c6-619c325010a1"
      },
      "execution_count": 6,
      "outputs": [
        {
          "output_type": "stream",
          "name": "stdout",
          "text": [
            "[1, 2, 2, 3, 5, 6]\n"
          ]
        }
      ]
    },
    {
      "cell_type": "code",
      "source": [
        "\n",
        "# 💡 **Q6.** Given an integer array nums, return true if any value appears at least twice in the array, and return false if every element is distinct.\n",
        "\n",
        "# **Example 1:**\n",
        "# Input: nums = [1,2,3,1]\n",
        "\n",
        "# Output: true\n",
        "\n",
        "def containsDuplicate(nums):\n",
        "    seen = set()\n",
        "    \n",
        "    for num in nums:\n",
        "        if num in seen:\n",
        "            return True\n",
        "        seen.add(num)\n",
        "    \n",
        "    return False\n",
        "nums = [1, 2, 3, 1]\n",
        "result = containsDuplicate(nums)\n",
        "print(result)\n",
        "\n",
        "\n"
      ],
      "metadata": {
        "colab": {
          "base_uri": "https://localhost:8080/"
        },
        "id": "_RJdKCHZI7o6",
        "outputId": "9237affe-e456-498c-c01e-756cef87a9d1"
      },
      "execution_count": 7,
      "outputs": [
        {
          "output_type": "stream",
          "name": "stdout",
          "text": [
            "True\n"
          ]
        }
      ]
    },
    {
      "cell_type": "code",
      "source": [
        "# # Given an integer array nums, move all 0's to the end of it while maintaining the relative order of \n",
        "# the nonzero elements.\n",
        "\n",
        "\n",
        "def moveZeroes(nums):\n",
        "    zero_pos = 0  # Position for the next non-zero element\n",
        "    \n",
        "    for i in range(len(nums)):\n",
        "        if nums[i] != 0:\n",
        "            nums[i], nums[zero_pos] = nums[zero_pos], nums[i]\n",
        "            zero_pos += 1\n",
        "nums = [0, 1, 0, 3, 12]\n",
        "moveZeroes(nums)\n",
        "print(nums)\n"
      ],
      "metadata": {
        "colab": {
          "base_uri": "https://localhost:8080/"
        },
        "id": "YUaIdw0zJM_Y",
        "outputId": "370667af-ab23-4e56-91ff-6bf9e5f9efba"
      },
      "execution_count": 8,
      "outputs": [
        {
          "output_type": "stream",
          "name": "stdout",
          "text": [
            "[1, 3, 12, 0, 0]\n"
          ]
        }
      ]
    },
    {
      "cell_type": "code",
      "source": [
        "\n",
        "# 💡 **Q8.** You have a set of integers s, which originally contains all the numbers from 1 to n. Unfortunately, due to some error, one of the numbers in s got duplicated to another number in the set, which results in repetition of one number and loss of another number.\n",
        "\n",
        "# You are given an integer array nums representing the data status of this set after the error.\n",
        "\n",
        "# Find the number that occurs twice and the number that is missing and return them in the form of an array.\n",
        "\n",
        "def findErrorNums(nums):\n",
        "    n = len(nums)\n",
        "    expected_sum = (n * (n + 1)) // 2\n",
        "    actual_sum = 0\n",
        "    num_set = set()\n",
        "    duplicate = -1\n",
        "    \n",
        "    for num in nums:\n",
        "        actual_sum += num\n",
        "        if num in num_set:\n",
        "            duplicate = num\n",
        "        num_set.add(num)\n",
        "    \n",
        "    missing = expected_sum - actual_sum + duplicate\n",
        "    \n",
        "    return [duplicate, missing]\n",
        "nums = [1, 2, 2, 4]\n",
        "result = findErrorNums(nums)\n",
        "print(result)\n"
      ],
      "metadata": {
        "colab": {
          "base_uri": "https://localhost:8080/"
        },
        "id": "v8xA1FGcKPjW",
        "outputId": "7e043992-3a31-47c5-f268-493873f9d938"
      },
      "execution_count": 11,
      "outputs": [
        {
          "output_type": "stream",
          "name": "stdout",
          "text": [
            "[2, 3]\n"
          ]
        }
      ]
    },
    {
      "cell_type": "code",
      "source": [],
      "metadata": {
        "id": "KHCS5mAnKjuT"
      },
      "execution_count": null,
      "outputs": []
    }
  ],
  "metadata": {
    "colab": {
      "name": "Welcome To Colaboratory",
      "toc_visible": true,
      "provenance": []
    },
    "kernelspec": {
      "display_name": "Python 3",
      "name": "python3"
    }
  },
  "nbformat": 4,
  "nbformat_minor": 0
}